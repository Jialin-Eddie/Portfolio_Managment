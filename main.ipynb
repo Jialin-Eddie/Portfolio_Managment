{
 "cells": [
  {
   "cell_type": "markdown",
   "metadata": {},
   "source": []
  },
  {
   "cell_type": "code",
   "execution_count": null,
   "metadata": {},
   "outputs": [],
   "source": [
    "# Could be useful code for automatically excuted Code\n",
    "\n",
    "# %run src/get_xxx.ipynb\n",
    "\n",
    "# %run src/.helper/test_helper.ipynb\n"
   ]
  },
  {
   "cell_type": "code",
   "execution_count": 1,
   "metadata": {},
   "outputs": [],
   "source": [
    "import os\n",
    "# print(os.path.abspath('.'))\n",
    "# os.path.abspath('..')"
   ]
  },
  {
   "cell_type": "code",
   "execution_count": 1,
   "metadata": {},
   "outputs": [
    {
     "name": "stderr",
     "output_type": "stream",
     "text": [
      "<>:2: SyntaxWarning: invalid escape sequence '\\s'\n",
      "<>:2: SyntaxWarning: invalid escape sequence '\\s'\n",
      "C:\\Users\\zhaoj\\AppData\\Local\\Temp\\ipykernel_25628\\3220081221.py:2: SyntaxWarning: invalid escape sequence '\\s'\n",
      "  engine_path = os.path.abspath('.') + '\\src\\.helper'\n"
     ]
    },
    {
     "data": {
      "text/plain": [
       "['C:\\\\Users\\\\zhaoj\\\\AppData\\\\Local\\\\Programs\\\\Python\\\\Python312\\\\python312.zip',\n",
       " 'C:\\\\Users\\\\zhaoj\\\\AppData\\\\Local\\\\Programs\\\\Python\\\\Python312\\\\DLLs',\n",
       " 'C:\\\\Users\\\\zhaoj\\\\AppData\\\\Local\\\\Programs\\\\Python\\\\Python312\\\\Lib',\n",
       " 'C:\\\\Users\\\\zhaoj\\\\AppData\\\\Local\\\\Programs\\\\Python\\\\Python312',\n",
       " 'e:\\\\zhaoj\\\\download\\\\workSpace\\\\.venv',\n",
       " '',\n",
       " 'e:\\\\zhaoj\\\\download\\\\workSpace\\\\.venv\\\\Lib\\\\site-packages',\n",
       " 'e:\\\\zhaoj\\\\download\\\\workSpace\\\\.venv\\\\Lib\\\\site-packages\\\\win32',\n",
       " 'e:\\\\zhaoj\\\\download\\\\workSpace\\\\.venv\\\\Lib\\\\site-packages\\\\win32\\\\lib',\n",
       " 'e:\\\\zhaoj\\\\download\\\\workSpace\\\\.venv\\\\Lib\\\\site-packages\\\\Pythonwin',\n",
       " 'e:\\\\zhaoj\\\\download\\\\workSpace\\\\Portfolio_Management\\\\src\\\\.helper']"
      ]
     },
     "execution_count": 1,
     "metadata": {},
     "output_type": "execute_result"
    }
   ],
   "source": [
    "import sys, os\n",
    "engine_path = os.path.abspath('.') + '\\src\\.helper'\n",
    "# print(engine_path)\n",
    "sys.path.append(engine_path)\n",
    "sys.path\n"
   ]
  },
  {
   "cell_type": "code",
   "execution_count": 3,
   "metadata": {},
   "outputs": [
    {
     "data": {
      "text/plain": [
       "'this is helper'"
      ]
     },
     "execution_count": 3,
     "metadata": {},
     "output_type": "execute_result"
    }
   ],
   "source": [
    "from helper import load_data\n",
    "\n",
    "helper.output_print()"
   ]
  },
  {
   "cell_type": "code",
   "execution_count": null,
   "metadata": {},
   "outputs": [],
   "source": [
    "\n",
    "'''# % run src/.helper/hedgeFund.ipynb'''\n",
    "\n"
   ]
  },
  {
   "cell_type": "code",
   "execution_count": 13,
   "metadata": {},
   "outputs": [
    {
     "name": "stdout",
     "output_type": "stream",
     "text": [
      "Hello from test.py!\n"
     ]
    }
   ],
   "source": [
    "# %% run src/.helper/test.py\n",
    "%run src/hedgeFund/test.py\n"
   ]
  },
  {
   "cell_type": "code",
   "execution_count": null,
   "metadata": {},
   "outputs": [],
   "source": []
  }
 ],
 "metadata": {
  "kernelspec": {
   "display_name": ".VENV",
   "language": "python",
   "name": "python3"
  },
  "language_info": {
   "codemirror_mode": {
    "name": "ipython",
    "version": 3
   },
   "file_extension": ".py",
   "mimetype": "text/x-python",
   "name": "python",
   "nbconvert_exporter": "python",
   "pygments_lexer": "ipython3",
   "version": "3.12.4"
  }
 },
 "nbformat": 4,
 "nbformat_minor": 2
}
