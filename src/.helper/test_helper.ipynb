{
 "cells": [
  {
   "cell_type": "code",
   "execution_count": 2,
   "metadata": {},
   "outputs": [
    {
     "name": "stdout",
     "output_type": "stream",
     "text": [
      "Index(['Date', 'HFRI 400 (US) Fund Weighted Composite Index (HFRI4FWC)',\n",
      "       'HFRI 400 (US) EH: Long/Short Index (HFRI4ELS)',\n",
      "       'HFRI 400 (US) EH: Equity Market Neutral Index (HFRI4EMN)',\n",
      "       'HFRI 400 (US) EH: Fundamental Value Index (HFRI4EHV)',\n",
      "       'HFRI 400 (US) Event-Driven Index (HFRI4ED)',\n",
      "       'HFRI 400 (US) Macro Index (HFRI4M)',\n",
      "       'HFRI 400 (US) Relative Value Index (HFRI4RV)'],\n",
      "      dtype='object')\n",
      "Index(['Date', 'Austria', 'Australia', 'Belgium', 'Canada', 'Denmark',\n",
      "       'Finland', 'France', 'Germany', 'HongKong', 'Ireland', 'Italy', 'Japan',\n",
      "       'Netherlands', 'New Zealand', 'Norway', 'Singapore', 'Spain', 'Sweden',\n",
      "       'Switzerland', 'UK'],\n",
      "      dtype='object')\n",
      "Index(['Unnamed: 0', 'Mkt-RF', 'SMB', 'HML', 'Mom   ', 'RF'], dtype='object')\n",
      "Index(['Date', 'MMM', 'AXP', 'AMGN', 'AAPL', 'BA', 'CAT', 'CVX', 'CSCO', 'KO',\n",
      "       'DIS', 'DD', 'GS', 'HON', 'HD', 'IBM', 'INTC', 'JNJ', 'JPM', 'MCD',\n",
      "       'MRK', 'MSFT', 'NKE', 'PG', 'CRM', 'BAC', 'UNH', 'VZ', 'HWP', 'PFE',\n",
      "       'WMT', 'DJIA'],\n",
      "      dtype='object')\n"
     ]
    }
   ],
   "source": [
    "import helper\n",
    "\n",
    "\n",
    "HF_returns = helper.load_data('HW_Hedge_Fund.xlsx',1)\n",
    "M_ER_country = helper.load_data('HW_World.xlsx')\n",
    "Emp_factors = helper.load_data('HW_Factors.xlsx')\n",
    "HP_DJ_Sto = helper.load_data('HW_DJIA_Prices.xlsx',4)\n",
    "\n",
    "print(HF_returns.keys())\n",
    "print(M_ER_country.keys())\n",
    "print(Emp_factors.keys())     \n",
    "print(HP_DJ_Sto.keys())\n",
    "\n",
    "\n",
    "\n",
    "\n"
   ]
  },
  {
   "cell_type": "code",
   "execution_count": 3,
   "metadata": {},
   "outputs": [
    {
     "name": "stdout",
     "output_type": "stream",
     "text": [
      "int64\n",
      "int64\n",
      "datetime64[ns]\n",
      "datetime64[ns]\n"
     ]
    }
   ],
   "source": [
    "# HP_DJ_Sto['Date'] = pd.to_datetime(HP_DJ_Sto['Date'])\n",
    "# HP_DJ_Sto['Name']\n",
    "Emp_factors.rename(columns={Emp_factors.keys()[0]: 'Date'}, inplace=True)\n",
    "\n",
    "# Emp_factors.head()#dataframe\n",
    "# HF_returns.head()\n",
    "# M_ER_country.head()#dataframe\n",
    "# HP_DJ_Sto.head()\n",
    "# Emp_factors['Date']\n",
    "print(Emp_factors['Date'].dtype)#\n",
    "print(M_ER_country['Date'].dtype)#\n",
    "print(HF_returns['Date'].dtype)\n",
    "print(HP_DJ_Sto['Date'].dtype)  \n",
    "\n",
    "# \n",
    "\n"
   ]
  },
  {
   "cell_type": "code",
   "execution_count": 28,
   "metadata": {},
   "outputs": [
    {
     "name": "stdout",
     "output_type": "stream",
     "text": [
      "0      1970-01-01 00:00:00.000192701\n",
      "1      1970-01-01 00:00:00.000192702\n",
      "2      1970-01-01 00:00:00.000192703\n",
      "3      1970-01-01 00:00:00.000192704\n",
      "4      1970-01-01 00:00:00.000192705\n",
      "                    ...             \n",
      "1152   1970-01-01 00:00:00.000202301\n",
      "1153   1970-01-01 00:00:00.000202302\n",
      "1154   1970-01-01 00:00:00.000202303\n",
      "1155   1970-01-01 00:00:00.000202304\n",
      "1156   1970-01-01 00:00:00.000202305\n",
      "Name: Date, Length: 1157, dtype: datetime64[ns]\n",
      "0     2005-01-01\n",
      "1     2005-02-01\n",
      "2     2005-03-01\n",
      "3     2005-04-01\n",
      "4     2005-05-01\n",
      "         ...    \n",
      "216   2023-01-01\n",
      "217   2023-02-01\n",
      "218   2023-03-01\n",
      "219   2023-04-01\n",
      "220   2023-05-01\n",
      "Name: Date, Length: 221, dtype: datetime64[ns]\n",
      "0     1970-01-01 00:00:00.000199101\n",
      "1     1970-01-01 00:00:00.000199102\n",
      "2     1970-01-01 00:00:00.000199103\n",
      "3     1970-01-01 00:00:00.000199104\n",
      "4     1970-01-01 00:00:00.000199105\n",
      "                   ...             \n",
      "379   1970-01-01 00:00:00.000202208\n",
      "380   1970-01-01 00:00:00.000202209\n",
      "381   1970-01-01 00:00:00.000202210\n",
      "382   1970-01-01 00:00:00.000202211\n",
      "383   1970-01-01 00:00:00.000202212\n",
      "Name: Date, Length: 384, dtype: datetime64[ns]\n",
      "0     2004-06-30\n",
      "1     2004-07-30\n",
      "2     2004-08-31\n",
      "3     2004-09-30\n",
      "4     2004-10-29\n",
      "         ...    \n",
      "218   2022-08-31\n",
      "219   2022-09-30\n",
      "220   2022-10-31\n",
      "221   2022-11-30\n",
      "222   2022-12-30\n",
      "Name: Date, Length: 223, dtype: datetime64[ns]\n"
     ]
    }
   ],
   "source": [
    "print(Emp_factors['Date'])#factor\n",
    "print(HF_returns['Date'])#hedge fund\n",
    "print(M_ER_country['Date'])#world\n",
    "print(HP_DJ_Sto['Date'])#DJIA\n",
    "\n"
   ]
  },
  {
   "cell_type": "code",
   "execution_count": 35,
   "metadata": {},
   "outputs": [
    {
     "data": {
      "text/plain": [
       "\"Didn't do yet, could be improved in the future\""
      ]
     },
     "execution_count": 35,
     "metadata": {},
     "output_type": "execute_result"
    }
   ],
   "source": [
    "#Convert 'Date' column to datetime format for Emp_factors and M_ER_country\n",
    "'''Didn't do yet, could be improved in the future'''\n",
    "# import pandas as pd\n",
    "# Emp_factors['Date'] = pd.to_datetime(Emp_factors['Date'])\n",
    "# M_ER_country['Date'] = pd.to_datetime(M_ER_country['Date'])\n",
    "# print(len(Emp_factors))\n",
    "# print(len(M_ER_country))\n",
    "# print(len(HF_returns))\n",
    "# print(len(HP_DJ_Sto))\n",
    "\n",
    "# # Verify the date formats\n",
    "# print(Emp_factors['Date'])\n",
    "# print(M_ER_country['Date'])\n",
    "\n",
    "# # Display the first few rows of each dataframe to confirm the changes\n",
    "# print(\"\\nEmp_factors head:\")\n",
    "# print(Emp_factors[['Date']].head())\n",
    "# print(\"\\nM_ER_country head:\")\n",
    "# print(M_ER_country[['Date']].head())\n",
    "# print(\"\\nHF_returns head:\")\n",
    "# print(HF_returns[['Date']].head())\n",
    "# print(\"\\nHP_DJ_Sto head:\")\n",
    "# print(HP_DJ_Sto[['Date']].head())"
   ]
  },
  {
   "cell_type": "markdown",
   "metadata": {},
   "source": [
    "1. CAPM"
   ]
  },
  {
   "cell_type": "code",
   "execution_count": 8,
   "metadata": {},
   "outputs": [
    {
     "name": "stdout",
     "output_type": "stream",
     "text": [
      "Index(['Date', 'HFRI 400 (US) Fund Weighted Composite Index (HFRI4FWC)',\n",
      "       'HFRI 400 (US) EH: Long/Short Index (HFRI4ELS)',\n",
      "       'HFRI 400 (US) EH: Equity Market Neutral Index (HFRI4EMN)',\n",
      "       'HFRI 400 (US) EH: Fundamental Value Index (HFRI4EHV)',\n",
      "       'HFRI 400 (US) Event-Driven Index (HFRI4ED)',\n",
      "       'HFRI 400 (US) Macro Index (HFRI4M)',\n",
      "       'HFRI 400 (US) Relative Value Index (HFRI4RV)'],\n",
      "      dtype='object')\n",
      "Index(['Date', 'Mkt-RF', 'SMB', 'HML', 'Mom   ', 'RF'], dtype='object')\n",
      "Index(['Date', 'Austria', 'Australia', 'Belgium', 'Canada', 'Denmark',\n",
      "       'Finland', 'France', 'Germany', 'HongKong', 'Ireland', 'Italy', 'Japan',\n",
      "       'Netherlands', 'New Zealand', 'Norway', 'Singapore', 'Spain', 'Sweden',\n",
      "       'Switzerland', 'UK'],\n",
      "      dtype='object')\n",
      "Index(['Date', 'MMM', 'AXP', 'AMGN', 'AAPL', 'BA', 'CAT', 'CVX', 'CSCO', 'KO',\n",
      "       'DIS', 'DD', 'GS', 'HON', 'HD', 'IBM', 'INTC', 'JNJ', 'JPM', 'MCD',\n",
      "       'MRK', 'MSFT', 'NKE', 'PG', 'CRM', 'BAC', 'UNH', 'VZ', 'HWP', 'PFE',\n",
      "       'WMT', 'DJIA'],\n",
      "      dtype='object')\n"
     ]
    }
   ],
   "source": [
    "print(HF_returns.keys())\n",
    "print(Emp_factors.keys())\n",
    "print(M_ER_country.keys())\n",
    "print(HP_DJ_Sto.keys())\n"
   ]
  },
  {
   "cell_type": "code",
   "execution_count": 72,
   "metadata": {},
   "outputs": [
    {
     "data": {
      "text/html": [
       "<div>\n",
       "<style scoped>\n",
       "    .dataframe tbody tr th:only-of-type {\n",
       "        vertical-align: middle;\n",
       "    }\n",
       "\n",
       "    .dataframe tbody tr th {\n",
       "        vertical-align: top;\n",
       "    }\n",
       "\n",
       "    .dataframe thead th {\n",
       "        text-align: right;\n",
       "    }\n",
       "</style>\n",
       "<table border=\"1\" class=\"dataframe\">\n",
       "  <thead>\n",
       "    <tr style=\"text-align: right;\">\n",
       "      <th></th>\n",
       "      <th>HF_name</th>\n",
       "      <th>beta</th>\n",
       "      <th>alpha</th>\n",
       "      <th>t_stat</th>\n",
       "      <th>r_squared</th>\n",
       "    </tr>\n",
       "  </thead>\n",
       "  <tbody>\n",
       "    <tr>\n",
       "      <th>0</th>\n",
       "      <td>HFRI 400 (US) Fund Weighted Composite Index (H...</td>\n",
       "      <td>0.002999</td>\n",
       "      <td>0.002638</td>\n",
       "      <td>17.790518</td>\n",
       "      <td>0.651397</td>\n",
       "    </tr>\n",
       "    <tr>\n",
       "      <th>1</th>\n",
       "      <td>HFRI 400 (US) EH: Long/Short Index (HFRI4ELS)</td>\n",
       "      <td>0.005018</td>\n",
       "      <td>0.002149</td>\n",
       "      <td>10.875956</td>\n",
       "      <td>0.746495</td>\n",
       "    </tr>\n",
       "    <tr>\n",
       "      <th>2</th>\n",
       "      <td>HFRI 400 (US) EH: Equity Market Neutral Index ...</td>\n",
       "      <td>0.000863</td>\n",
       "      <td>0.002246</td>\n",
       "      <td>18.968367</td>\n",
       "      <td>0.195413</td>\n",
       "    </tr>\n",
       "    <tr>\n",
       "      <th>3</th>\n",
       "      <td>HFRI 400 (US) EH: Fundamental Value Index (HFR...</td>\n",
       "      <td>0.005566</td>\n",
       "      <td>0.001473</td>\n",
       "      <td>8.108550</td>\n",
       "      <td>0.810910</td>\n",
       "    </tr>\n",
       "    <tr>\n",
       "      <th>4</th>\n",
       "      <td>HFRI 400 (US) Event-Driven Index (HFRI4ED)</td>\n",
       "      <td>0.003527</td>\n",
       "      <td>0.002325</td>\n",
       "      <td>11.685065</td>\n",
       "      <td>0.589218</td>\n",
       "    </tr>\n",
       "    <tr>\n",
       "      <th>5</th>\n",
       "      <td>HFRI 400 (US) Macro Index (HFRI4M)</td>\n",
       "      <td>0.000528</td>\n",
       "      <td>0.003226</td>\n",
       "      <td>14.584228</td>\n",
       "      <td>0.025349</td>\n",
       "    </tr>\n",
       "    <tr>\n",
       "      <th>6</th>\n",
       "      <td>HFRI 400 (US) Relative Value Index (HFRI4RV)</td>\n",
       "      <td>0.001826</td>\n",
       "      <td>0.003223</td>\n",
       "      <td>22.662552</td>\n",
       "      <td>0.429358</td>\n",
       "    </tr>\n",
       "  </tbody>\n",
       "</table>\n",
       "</div>"
      ],
      "text/plain": [
       "                                             HF_name      beta     alpha  \\\n",
       "0  HFRI 400 (US) Fund Weighted Composite Index (H...  0.002999  0.002638   \n",
       "1      HFRI 400 (US) EH: Long/Short Index (HFRI4ELS)  0.005018  0.002149   \n",
       "2  HFRI 400 (US) EH: Equity Market Neutral Index ...  0.000863  0.002246   \n",
       "3  HFRI 400 (US) EH: Fundamental Value Index (HFR...  0.005566  0.001473   \n",
       "4         HFRI 400 (US) Event-Driven Index (HFRI4ED)  0.003527  0.002325   \n",
       "5                 HFRI 400 (US) Macro Index (HFRI4M)  0.000528  0.003226   \n",
       "6       HFRI 400 (US) Relative Value Index (HFRI4RV)  0.001826  0.003223   \n",
       "\n",
       "      t_stat  r_squared  \n",
       "0  17.790518   0.651397  \n",
       "1  10.875956   0.746495  \n",
       "2  18.968367   0.195413  \n",
       "3   8.108550   0.810910  \n",
       "4  11.685065   0.589218  \n",
       "5  14.584228   0.025349  \n",
       "6  22.662552   0.429358  "
      ]
     },
     "metadata": {},
     "output_type": "display_data"
    }
   ],
   "source": [
    "# ! pip install scipy\n",
    "from scipy import stats\n",
    "import pandas as pd\n",
    "class hedgeFundClass:   \n",
    "    def __init__(self, HF_returns, HF_name):\n",
    "        self.HF_name = HF_name\n",
    "        self.beta = 0\n",
    "        self.alpha = 0\n",
    "        self.t_stat = 0\n",
    "        self.r_squared = 0\n",
    "        self.HF_returns = HF_returns\n",
    "    \n",
    "    def __str__(self):\n",
    "        return (\n",
    "            f'HF_name: {self.HF_name}\\n'\n",
    "            f'beta: {self.beta}\\n'\n",
    "            f'alpha: {self.alpha}\\n'\n",
    "            f't_stat: {self.t_stat}\\n'\n",
    "            f'r_squared: {self.r_squared}\\n'\n",
    "        )\n",
    "\n",
    "    def run_capm_regression(self, Market_premium):\n",
    "        slope, intercept, r_value, p_value, std_err = stats.linregress(Market_premium, self.HF_returns)\n",
    "        self.beta = slope\n",
    "        self.alpha = intercept\n",
    "        self.t_stat = intercept / std_err\n",
    "        self.r_squared = r_value ** 2\n",
    "        return {\n",
    "            'HF_name': self.HF_name,\n",
    "            'beta': slope,\n",
    "            'alpha': intercept,\n",
    "            't_stat': intercept / std_err,\n",
    "            'r_squared': r_value ** 2\n",
    "        }\n",
    "\n",
    "\n",
    "def analyze_hedge_funds(HF_returns, factors):\n",
    "    results = []\n",
    "    for hf_name in HF_returns.keys()[1:]:  # Start from index 1 to skip the 'Date' column\n",
    "        HF = hedgeFundClass(HF_returns[hf_name], hf_name)\n",
    "        results.append(HF.run_capm_regression(factors))\n",
    "    return pd.DataFrame(results)\n",
    "\n",
    "time_Length = len(HF_returns)\n",
    "hedge_fund_list = analyze_hedge_funds(HF_returns, Emp_factors['Mkt-RF'].iloc[-time_Length:])\n",
    "display(hedge_fund_list)\n",
    "\n",
    "# Emp_factors['Mkt-RF'].iloc[-time_Length:]\n",
    "# print(HF_returns[HF_returns.keys()[i]])\n",
    "# print(Emp_factors['Date'].iloc[-time_Length:])\n",
    "\n"
   ]
  },
  {
   "cell_type": "markdown",
   "metadata": {
    "slideshow": {
     "slide_type": "notes"
    }
   },
   "source": [
    "Based on the provided data, let's analyze and select two hedge fund strategies that could be considered attractive investment opportunities. The key metrics to analyze are beta, alpha, t-stat (significance of alpha), and r-squared (goodness of fit).\n",
    "\n",
    "HFRI 400 (US) EH: Equity Market Neutral Index (HFRI4EMN)\n",
    "\n",
    "Beta: 0.000863, indicating very low correlation with the market,    making it less sensitive to market movements.\n",
    "Alpha: 0.002246, which reflects positive returns independent of the market.\n",
    "t-stat: 18.968367, suggesting that the alpha is statistically significant.\n",
    "R-squared: 0.195413, indicating that a small portion of returns is explained by market movements, which is expected for market-neutral strategies.\n",
    "Why It’s Attractive:\n",
    "\n",
    "The low beta makes this strategy appealing for diversification, as it has limited exposure to market risk.\n",
    "The statistically significant alpha suggests a strong capability of generating excess returns independent of market movements.\n",
    "It is ideal for investors looking to reduce market risk while aiming for stable returns.\n",
    "HFRI 400 (US) Relative Value Index (HFRI4RV)\n",
    "\n",
    "Beta: 0.001826, also indicating low market exposure.\n",
    "Alpha: 0.003223, showing higher excess returns compared to other strategies in this dataset.\n",
    "t-stat: 22.662552, indicating the alpha is highly significant.\n",
    "R-squared: 0.429358, meaning a moderate portion of its returns is explained by market factors, but with significant additional sources of return.\n",
    "Why It’s Attractive:\n",
    "\n",
    "The combination of a low beta and the highest alpha makes this an attractive choice for investors seeking to generate strong risk-adjusted returns.\n",
    "The high t-stat indicates that the positive alpha is not a result of randomness but a consistent ability to generate excess returns.\n",
    "It is suitable for investors looking for income with some degree of market correlation but with a strong likelihood of outperforming the market.\n",
    "These two strategies, the Equity Market Neutral Index for its diversification benefits and the Relative Value Index for its high alpha and significant returns, offer different but complementary benefits for an investment portfolio."
   ]
  },
  {
   "cell_type": "markdown",
   "metadata": {},
   "source": [
    "#Four-Factor Model"
   ]
  },
  {
   "cell_type": "code",
   "execution_count": 74,
   "metadata": {},
   "outputs": [],
   "source": []
  },
  {
   "cell_type": "code",
   "execution_count": null,
   "metadata": {},
   "outputs": [],
   "source": []
  }
 ],
 "metadata": {
  "kernelspec": {
   "display_name": ".VENV",
   "language": "python",
   "name": "python3"
  },
  "language_info": {
   "codemirror_mode": {
    "name": "ipython",
    "version": 3
   },
   "file_extension": ".py",
   "mimetype": "text/x-python",
   "name": "python",
   "nbconvert_exporter": "python",
   "pygments_lexer": "ipython3",
   "version": "3.12.4"
  }
 },
 "nbformat": 4,
 "nbformat_minor": 2
}
