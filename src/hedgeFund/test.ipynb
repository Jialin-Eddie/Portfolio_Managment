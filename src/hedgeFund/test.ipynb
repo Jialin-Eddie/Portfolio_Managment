{
 "cells": [
  {
   "cell_type": "code",
   "execution_count": 3,
   "id": "initial_id",
   "metadata": {
    "ExecuteTime": {
     "end_time": "2024-10-04T12:44:32.443588Z",
     "start_time": "2024-10-04T12:44:31.618155Z"
    },
    "collapsed": true
   },
   "outputs": [],
   "source": [
    "import pandas as pd\n",
    "import matplotlib.pyplot as plt\n",
    "import seaborn as sns\n",
    "from pathlib import Path\n",
    "script_dir = Path.cwd()"
   ]
  },
  {
   "cell_type": "code",
   "execution_count": 4,
   "id": "864a6764bca47bf1",
   "metadata": {
    "ExecuteTime": {
     "end_time": "2024-10-04T12:44:51.268930Z",
     "start_time": "2024-10-04T12:44:51.266139Z"
    }
   },
   "outputs": [
    {
     "name": "stdout",
     "output_type": "stream",
     "text": [
      "e:\\zhaoj\\download\\workSpace\\Portfolio_Management\\src\\hedgeFund\n"
     ]
    }
   ],
   "source": [
    "print(script_dir)"
   ]
  },
  {
   "cell_type": "code",
   "execution_count": 5,
   "id": "2f6dd991a3b3e4fd",
   "metadata": {
    "ExecuteTime": {
     "end_time": "2024-10-04T12:48:34.617829Z",
     "start_time": "2024-10-04T12:48:34.614196Z"
    }
   },
   "outputs": [
    {
     "name": "stdout",
     "output_type": "stream",
     "text": [
      "HW_DJIA_Prices.xlsx\n"
     ]
    }
   ],
   "source": [
    "script_dir = Path.cwd()\n",
    "\n",
    "# Define the relative path to the input directory\n",
    "input_dir = script_dir.parent.parent / 'input'\n",
    "\n",
    "# Define the Excel file names\n",
    "djia_returns_file = 'HW_Hedge_Fund.xlsx'\n",
    "sp500_prices_file = 'HW_World.xlsx'\n",
    "sp500_returns_file = 'HW_Factors.xlsx'\n",
    "djia_prices_file = 'HW_DJIA_Prices.xlsx'\n",
    "print(djia_prices_file)\n"
   ]
  }
 ],
 "metadata": {
  "kernelspec": {
   "display_name": "Python 3",
   "language": "python",
   "name": "python3"
  },
  "language_info": {
   "codemirror_mode": {
    "name": "ipython",
    "version": 3
   },
   "file_extension": ".py",
   "mimetype": "text/x-python",
   "name": "python",
   "nbconvert_exporter": "python",
   "pygments_lexer": "ipython3",
   "version": "3.12.4"
  }
 },
 "nbformat": 4,
 "nbformat_minor": 5
}
