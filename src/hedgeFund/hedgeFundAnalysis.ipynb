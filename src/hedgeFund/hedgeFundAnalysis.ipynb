{
 "cells": [
  {
   "cell_type": "code",
   "execution_count": 3,
   "metadata": {},
   "outputs": [],
   "source": [
    "import pandas as pd\n",
    "from pathlib import Path\n",
    "import os"
   ]
  },
  {
   "cell_type": "code",
   "execution_count": 1,
   "metadata": {},
   "outputs": [
    {
     "ename": "AttributeError",
     "evalue": "module 'test' has no attribute 'change_to_inputFolder'",
     "output_type": "error",
     "traceback": [
      "\u001b[1;31m---------------------------------------------------------------------------\u001b[0m",
      "\u001b[1;31mAttributeError\u001b[0m                            Traceback (most recent call last)",
      "Cell \u001b[1;32mIn[1], line 2\u001b[0m\n\u001b[0;32m      1\u001b[0m \u001b[38;5;28;01mimport\u001b[39;00m \u001b[38;5;21;01mtest\u001b[39;00m\n\u001b[1;32m----> 2\u001b[0m \u001b[43mtest\u001b[49m\u001b[38;5;241;43m.\u001b[39;49m\u001b[43mchange_to_inputFolder\u001b[49m()\n",
      "\u001b[1;31mAttributeError\u001b[0m: module 'test' has no attribute 'change_to_inputFolder'"
     ]
    }
   ],
   "source": [
    "import test\n",
    "test.change_to_inputFolder()\n"
   ]
  },
  {
   "cell_type": "code",
   "execution_count": 17,
   "metadata": {},
   "outputs": [
    {
     "name": "stdout",
     "output_type": "stream",
     "text": [
      "e:\\zhaoj\\download\\workSpace\\Portfolio_Management\\src\n",
      "['chatGPT', 'hedgeFund', 'international_ltm', 'portfolioConstruction']\n",
      "None\n"
     ]
    }
   ],
   "source": [
    "kkk = os.getcwd()\n",
    "print(kkk)\n",
    "# ppp = os.path.join(kkk, 'input')\n",
    "print(os.listdir(kkk))\n",
    "print(os.chdir(kkk))\n"
   ]
  },
  {
   "cell_type": "code",
   "execution_count": 8,
   "metadata": {},
   "outputs": [
    {
     "ename": "NameError",
     "evalue": "name '__file__' is not defined",
     "output_type": "error",
     "traceback": [
      "\u001b[1;31m---------------------------------------------------------------------------\u001b[0m",
      "\u001b[1;31mNameError\u001b[0m                                 Traceback (most recent call last)",
      "Cell \u001b[1;32mIn[8], line 4\u001b[0m\n\u001b[0;32m      1\u001b[0m \u001b[38;5;28;01mimport\u001b[39;00m \u001b[38;5;21;01mos\u001b[39;00m\u001b[38;5;241m,\u001b[39m\u001b[38;5;21;01msys\u001b[39;00m\n\u001b[0;32m      2\u001b[0m \u001b[38;5;66;03m# os.listdir('/')\u001b[39;00m\n\u001b[0;32m      3\u001b[0m \u001b[38;5;66;03m# Get the absolute path of the directory where the script is located\u001b[39;00m\n\u001b[1;32m----> 4\u001b[0m script_dir \u001b[38;5;241m=\u001b[39m os\u001b[38;5;241m.\u001b[39mpath\u001b[38;5;241m.\u001b[39mdirname(os\u001b[38;5;241m.\u001b[39mpath\u001b[38;5;241m.\u001b[39mabspath(\u001b[38;5;18;43m__file__\u001b[39;49m))\n\u001b[0;32m      5\u001b[0m script_dir\n",
      "\u001b[1;31mNameError\u001b[0m: name '__file__' is not defined"
     ]
    }
   ],
   "source": [
    "import os,sys\n",
    "# os.listdir('/')\n",
    "# Get the absolute path of the directory where the script is located\n",
    "script_dir = os.path.dirname(os.path.abspath(__file__))\n",
    "script_dir"
   ]
  },
  {
   "cell_type": "code",
   "execution_count": 4,
   "metadata": {},
   "outputs": [
    {
     "name": "stdout",
     "output_type": "stream",
     "text": [
      "Error: The file HW_Hedge Fund.xlsx does not exist in the input directory.\n",
      "Please ensure all required files are in the 'input' directory relative to this notebook.\n"
     ]
    }
   ],
   "source": [
    "import pandas as pd\n",
    "from pathlib import Path\n",
    "\n",
    "# Use the current working directory since __file__ is not available\n",
    "script_dir = Path.cwd()\n",
    "\n",
    "# Define the relative path to the input directory\n",
    "input_dir = script_dir.parent.parent / 'input'\n",
    "\n",
    "# Define the Excel file names\n",
    "djia_returns_file = 'HW_Hedge Fund.xlsx'\n",
    "sp500_prices_file = 'HW_World.xlsx'\n",
    "sp500_returns_file = 'HW_Factors.xlsx'\n",
    "djia_prices_file = 'HW_DJIA Prices.xlsx'\n",
    "\n",
    "# Function to read Excel file and return DataFrame\n",
    "def read_excel_file(file_name):\n",
    "    file_path = input_dir / file_name\n",
    "    if not file_path.exists():\n",
    "        raise FileNotFoundError(f\"The file {file_name} does not exist in the input directory.\")\n",
    "    return pd.read_excel(file_path)\n",
    "\n",
    "# Read all Excel files into separate DataFrames\n",
    "try:\n",
    "    djia_returns_df = read_excel_file(djia_returns_file)\n",
    "    sp500_prices_df = read_excel_file(sp500_prices_file)\n",
    "    sp500_returns_df = read_excel_file(sp500_returns_file)\n",
    "\n",
    "    print(\"All files have been successfully read.\")\n",
    "    print(\"\\nFirst few rows of DJIA Returns:\")\n",
    "    print(djia_returns_df.head())\n",
    "    print(\"\\nFirst few rows of S&P 500 Prices:\")\n",
    "    print(sp500_prices_df.head())\n",
    "    print(\"\\nFirst few rows of S&P 500 Returns:\")\n",
    "    print(sp500_returns_df.head())\n",
    "\n",
    "except FileNotFoundError as e:\n",
    "    print(f\"Error: {e}\")\n",
    "    print(\"Please ensure all required files are in the 'input' directory relative to this notebook.\")"
   ]
  },
  {
   "cell_type": "code",
   "execution_count": null,
   "metadata": {},
   "outputs": [],
   "source": []
  }
 ],
 "metadata": {
  "kernelspec": {
   "display_name": ".venv",
   "language": "python",
   "name": "python3"
  },
  "language_info": {
   "codemirror_mode": {
    "name": "ipython",
    "version": 3
   },
   "file_extension": ".py",
   "mimetype": "text/x-python",
   "name": "python",
   "nbconvert_exporter": "python",
   "pygments_lexer": "ipython3",
   "version": "3.12.4"
  }
 },
 "nbformat": 4,
 "nbformat_minor": 2
}
