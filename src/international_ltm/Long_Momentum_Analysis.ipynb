{
 "cells": [
  {
   "cell_type": "code",
   "execution_count": 3,
   "metadata": {},
   "outputs": [
    {
     "name": "stdout",
     "output_type": "stream",
     "text": [
      "e:\\zhaoj\\download\\workSpace\\Portfolio_Management\\src\\.helper\\helper.py\n"
     ]
    },
    {
     "data": {
      "text/plain": [
       "['C:\\\\Users\\\\zhaoj\\\\AppData\\\\Local\\\\Programs\\\\Python\\\\Python312\\\\python312.zip',\n",
       " 'C:\\\\Users\\\\zhaoj\\\\AppData\\\\Local\\\\Programs\\\\Python\\\\Python312\\\\DLLs',\n",
       " 'C:\\\\Users\\\\zhaoj\\\\AppData\\\\Local\\\\Programs\\\\Python\\\\Python312\\\\Lib',\n",
       " 'C:\\\\Users\\\\zhaoj\\\\AppData\\\\Local\\\\Programs\\\\Python\\\\Python312',\n",
       " 'e:\\\\zhaoj\\\\download\\\\workSpace\\\\.venv',\n",
       " '',\n",
       " 'e:\\\\zhaoj\\\\download\\\\workSpace\\\\.venv\\\\Lib\\\\site-packages',\n",
       " 'e:\\\\zhaoj\\\\download\\\\workSpace\\\\.venv\\\\Lib\\\\site-packages\\\\win32',\n",
       " 'e:\\\\zhaoj\\\\download\\\\workSpace\\\\.venv\\\\Lib\\\\site-packages\\\\win32\\\\lib',\n",
       " 'e:\\\\zhaoj\\\\download\\\\workSpace\\\\.venv\\\\Lib\\\\site-packages\\\\Pythonwin',\n",
       " 'e:\\\\zhaoj\\\\download\\\\workSpace\\\\Portfolio_Management\\\\src\\\\.helper\\\\helper',\n",
       " 'e:\\\\zhaoj\\\\download\\\\workSpace\\\\Portfolio_Management\\\\src\\\\.helper\\\\helper.py']"
      ]
     },
     "execution_count": 3,
     "metadata": {},
     "output_type": "execute_result"
    }
   ],
   "source": [
    "import sys, os\n",
    "helper_py_location = os.path.abspath(os.path.join(os.path.join(os.getcwd(), \"../..\") ,\"src\",\".helper\",\"helper.py\"))\n",
    "print(helper_py_location)\n",
    "sys.path.append(helper_py_location)\n",
    "sys.path"
   ]
  },
  {
   "cell_type": "code",
   "execution_count": 4,
   "metadata": {},
   "outputs": [
    {
     "ename": "ModuleNotFoundError",
     "evalue": "No module named 'helper'",
     "output_type": "error",
     "traceback": [
      "\u001b[1;31m---------------------------------------------------------------------------\u001b[0m",
      "\u001b[1;31mModuleNotFoundError\u001b[0m                       Traceback (most recent call last)",
      "Cell \u001b[1;32mIn[4], line 1\u001b[0m\n\u001b[1;32m----> 1\u001b[0m \u001b[38;5;28;01mimport\u001b[39;00m \u001b[38;5;21;01mhelper\u001b[39;00m\n\u001b[0;32m      3\u001b[0m helper\u001b[38;5;241m.\u001b[39moutput_print()\n\u001b[0;32m      4\u001b[0m \u001b[38;5;66;03m# %run helper\u001b[39;00m\n\u001b[0;32m      5\u001b[0m \n\u001b[0;32m      6\u001b[0m \u001b[38;5;66;03m# HF_returns_original = helper.load_data('HW_Hedge_Fund.xlsx',1)\u001b[39;00m\n\u001b[1;32m   (...)\u001b[0m\n\u001b[0;32m     13\u001b[0m \u001b[38;5;66;03m# print(Emp_factors_original.keys())     \u001b[39;00m\n\u001b[0;32m     14\u001b[0m \u001b[38;5;66;03m# print(HP_DJ_Sto_original.keys())\u001b[39;00m\n",
      "\u001b[1;31mModuleNotFoundError\u001b[0m: No module named 'helper'"
     ]
    }
   ],
   "source": [
    "\n",
    "\n",
    "helper.output_print()\n",
    "# %run helper\n",
    "\n",
    "# HF_returns_original = helper.load_data('HW_Hedge_Fund.xlsx',1)\n",
    "# M_ER_country_original = helper.load_data('HW_World.xlsx')\n",
    "# Emp_factors_original = helper.load_data('HW_Factors.xlsx')\n",
    "# HP_DJ_Sto_original = helper.load_data('HW_DJIA_Prices.xlsx',4)\n",
    "\n",
    "# print(HF_returns_original.keys())\n",
    "# print(M_ER_country_original.keys())\n",
    "# print(Emp_factors_original.keys())     \n",
    "# print(HP_DJ_Sto_original.keys())\n"
   ]
  }
 ],
 "metadata": {
  "kernelspec": {
   "display_name": ".venv",
   "language": "python",
   "name": "python3"
  },
  "language_info": {
   "codemirror_mode": {
    "name": "ipython",
    "version": 3
   },
   "file_extension": ".py",
   "mimetype": "text/x-python",
   "name": "python",
   "nbconvert_exporter": "python",
   "pygments_lexer": "ipython3",
   "version": "3.12.4"
  }
 },
 "nbformat": 4,
 "nbformat_minor": 2
}
