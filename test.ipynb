{
 "cells": [
  {
   "cell_type": "markdown",
   "metadata": {},
   "source": [
    "Virtu Financial Leecode 5/5 \n"
   ]
  },
  {
   "cell_type": "markdown",
   "metadata": {},
   "source": [
    "1/5 1180. Count Substrings with Only One Distinct Letter\n",
    "Solved\n",
    "Easy\n",
    "Topics\n",
    "Companies\n",
    "Hint\n",
    "Given a string s, return the number of substrings that have only one distinct letter.\n",
    "\n",
    " \n",
    "\n",
    "Example 1:\n",
    "\n",
    "Input: s = \"aaaba\"\n",
    "Output: 8\n",
    "Explanation: The substrings with one distinct letter are \"aaa\", \"aa\", \"a\", \"b\".\n",
    "\"aaa\" occurs 1 time.\n",
    "\"aa\" occurs 2 times.\n",
    "\"a\" occurs 4 times.\n",
    "\"b\" occurs 1 time.\n",
    "So the answer is 1 + 2 + 4 + 1 = 8.\n",
    "Example 2:\n",
    "\n",
    "Input: s = \"aaaaaaaaaa\"\n",
    "Output: 55\n",
    " \n",
    "\n",
    "Constraints:\n",
    "\n",
    "1 <= s.length <= 1000\n",
    "s[i] consists of only lowercase English letters."
   ]
  },
  {
   "cell_type": "code",
   "execution_count": 22,
   "metadata": {},
   "outputs": [
    {
     "name": "stdout",
     "output_type": "stream",
     "text": [
      "8\n",
      "55\n"
     ]
    }
   ],
   "source": [
    "#my code\n",
    "class Solution(object):\n",
    "    def countLetters(self, s):\n",
    "        \"\"\"\n",
    "        :type s: str\n",
    "        :rtype: int\n",
    "        \"\"\"\n",
    "        rtype = 0\n",
    "        i = 0\n",
    "        n = len(s)\n",
    "        while i < n:\n",
    "            j = i\n",
    "            while j < n and s[j] == s[i]:\n",
    "                j += 1\n",
    "            count = j - i\n",
    "            rtype += count * (count + 1) // 2\n",
    "            i = j\n",
    "        return rtype\n",
    "    \n",
    "    def findNext(self, s, j):\n",
    "        for i in range(j + 1, len(s)):\n",
    "            if s[j] != s[i]:\n",
    "                return i\n",
    "        return None\n",
    "        \n",
    "a = \"aaaba\"\n",
    "print(Solution().countLetters(a))\n",
    "\n",
    "b = \"aaaaaaaaaa\"\n",
    "print(Solution().countLetters(b))\n",
    "\n",
    "c = \"aaaabcefeeeeeeeeefefffffffffffff\"\n",
    "print(Solution().countLetters(c))\n"
   ]
  },
  {
   "cell_type": "code",
   "execution_count": 29,
   "metadata": {},
   "outputs": [
    {
     "name": "stdout",
     "output_type": "stream",
     "text": [
      "8\n"
     ]
    }
   ],
   "source": [
    "# Approach 1 #Algorithm Regression --- substring with cutting\n",
    "class Solution:\n",
    "    def countLetters(self, S: str) -> int:\n",
    "        total = left = 0\n",
    "\n",
    "        for right in range(len(S) + 1):\n",
    "            if right == len(S) or S[left] != S[right]:\n",
    "                len_substring = right - left\n",
    "                # more details about the sum of the arithmetic sequence:\n",
    "                # https://en.wikipedia.org/wiki/Arithmetic_progression#Sum\n",
    "                total += (1 + len_substring) * len_substring // 2\n",
    "                left = right\n",
    "        return total\n",
    "a = \"aaaba\"\n",
    "print(Solution().countLetters(a))"
   ]
  },
  {
   "cell_type": "code",
   "execution_count": 24,
   "metadata": {},
   "outputs": [],
   "source": [
    "# Approach 3 # Dynamic Programming\n",
    "class Solution:\n",
    "    def countLetters(self, S: str) -> int:\n",
    "        total = 1\n",
    "        count = 1\n",
    "        for i in range(1, len(S)):\n",
    "            if S[i] == S[i-1]:\n",
    "                count += 1\n",
    "            else:\n",
    "                count = 1\n",
    "            total += count\n",
    "        return total\n"
   ]
  },
  {
   "cell_type": "code",
   "execution_count": 27,
   "metadata": {},
   "outputs": [
    {
     "name": "stdout",
     "output_type": "stream",
     "text": [
      "sum: 6, start: 3\n",
      "sum: 1, start: 1\n",
      "sum: 1, start: 1\n",
      "8\n",
      "sum: 55, start: 10\n",
      "55\n",
      "sum: 10, start: 4\n",
      "sum: 1, start: 1\n",
      "sum: 1, start: 1\n",
      "sum: 1, start: 1\n",
      "sum: 1, start: 1\n",
      "sum: 45, start: 9\n",
      "sum: 1, start: 1\n",
      "sum: 1, start: 1\n",
      "sum: 91, start: 13\n",
      "152\n"
     ]
    }
   ],
   "source": [
    "# Approach 4 --- function recursion\n",
    "class Solution:\n",
    "    def countLetters(self, s):\n",
    "        start = 0\n",
    "        head = s[0]\n",
    "        while start < len(s) and s[start] == head:\n",
    "            start += 1\n",
    "        \n",
    "        sum = (1 + start) * start // 2\n",
    "        print(f\"sum: {sum}, start: {start}\")\n",
    "        if start == len(s):\n",
    "            return sum\n",
    "        else:\n",
    "            return sum + self.countLetters(s[start:])\n",
    "\n",
    "# Example usage\n",
    "a = \"aaaba\"\n",
    "print(Solution().countLetters(a))\n",
    "\n",
    "b = \"aaaaaaaaaa\"\n",
    "print(Solution().countLetters(b))\n",
    "\n",
    "c = \"aaaabcefeeeeeeeeefefffffffffffff\"\n",
    "print(Solution().countLetters(c))"
   ]
  },
  {
   "cell_type": "markdown",
   "metadata": {},
   "source": [
    "2/5"
   ]
  },
  {
   "cell_type": "code",
   "execution_count": null,
   "metadata": {},
   "outputs": [],
   "source": [
    "\n"
   ]
  },
  {
   "cell_type": "code",
   "execution_count": null,
   "metadata": {},
   "outputs": [],
   "source": []
  }
 ],
 "metadata": {
  "kernelspec": {
   "display_name": ".venv",
   "language": "python",
   "name": "python3"
  },
  "language_info": {
   "codemirror_mode": {
    "name": "ipython",
    "version": 3
   },
   "file_extension": ".py",
   "mimetype": "text/x-python",
   "name": "python",
   "nbconvert_exporter": "python",
   "pygments_lexer": "ipython3",
   "version": "3.12.4"
  }
 },
 "nbformat": 4,
 "nbformat_minor": 2
}
